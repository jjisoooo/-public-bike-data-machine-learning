{
 "cells": [
  {
   "cell_type": "code",
   "execution_count": 1,
   "id": "709f0f2e-911d-4514-ac4c-08c7a689dd6b",
   "metadata": {},
   "outputs": [],
   "source": [
    "\n",
    "import pandas as pd\n",
    "import numpy as np\n",
    "import glob\n",
    "import matplotlib.pyplot as plt\n",
    "import seaborn as sns\n",
    "import json\n",
    "import requests\n",
    "\n"
   ]
  },
  {
   "cell_type": "code",
   "execution_count": 10,
   "id": "44f0e2ea-503e-4e12-a58b-de9e6e40048b",
   "metadata": {},
   "outputs": [
    {
     "name": "stdout",
     "output_type": "stream",
     "text": [
      "공공자전거 이용정보(일별)_2018.01_05.csv\n",
      "공공자전거 이용정보(일별)_2018.06.csv\n",
      "공공자전거 이용정보(일별)_2018.07_12.csv\n",
      "공공자전거 이용정보(일별)_2019.01_05.csv\n",
      "공공자전거 이용정보(일별)_2019.06.csv\n",
      "공공자전거 이용정보(일별)_2019.07.csv\n",
      "공공자전거 이용정보(일별)_2019.08.csv\n",
      "공공자전거 이용정보(일별)_2019.09.csv\n",
      "공공자전거 이용정보(일별)_2019.10.csv\n",
      "공공자전거 이용정보(일별)_2019.11.csv\n",
      "공공자전거 이용정보(일별)_2019.12.csv\n",
      "공공자전거 이용정보(일별)_2020.01_05.csv\n",
      "공공자전거 이용정보(일별)_2020.06.csv\n",
      "공공자전거 이용정보(일별)_2020.07_12.csv\n",
      "공공자전거 이용정보(일별)_2021.01.csv\n",
      "공공자전거 이용정보(일별)_2021.02.csv\n",
      "공공자전거 이용정보(일별)_2021.03.csv\n",
      "공공자전거 이용정보(일별)_2021.04.csv\n",
      "공공자전거 이용정보(일별)_2021.05.csv\n",
      "공공자전거 이용정보(일별)_2021.06_재산출.csv\n",
      "공공자전거 이용정보(일별)_2021.07.csv\n",
      "공공자전거 이용정보(일별)_2021.08.csv\n",
      "공공자전거 이용정보(일별)_2021.09.csv\n",
      "공공자전거 이용정보(일별)_2021.10.csv\n",
      "공공자전거 이용정보(일별)_2021.11.csv\n",
      "공공자전거 이용정보(일별)_2021.12.csv\n"
     ]
    }
   ],
   "source": [
    "\n",
    "csvfiles = glob.glob('data_따릉/2018/*.csv')\n",
    "for csvfile in csvfiles:\n",
    "        print( csvfile[13:])\n",
    "csvfiles = glob.glob('data_따릉/2019/*.csv')\n",
    "for csvfile in csvfiles:\n",
    "        print( csvfile[13:])\n",
    "csvfiles = glob.glob('data_따릉/2020/*.csv')\n",
    "for csvfile in csvfiles:\n",
    "        print( csvfile[13:])\n",
    "csvfiles = glob.glob('data_따릉/2021/*.csv')\n",
    "for csvfile in csvfiles:\n",
    "        print( csvfile[13:])"
   ]
  },
  {
   "cell_type": "code",
   "execution_count": null,
   "id": "4209eeec-806d-48fa-9f5c-a752d70b811a",
   "metadata": {},
   "outputs": [],
   "source": []
  },
  {
   "cell_type": "code",
   "execution_count": null,
   "id": "1ee67e9e-c462-4a5c-81ce-7ef5dd1632b6",
   "metadata": {},
   "outputs": [],
   "source": []
  },
  {
   "cell_type": "code",
   "execution_count": null,
   "id": "5825c817-f9dc-4469-8412-8547401783b9",
   "metadata": {},
   "outputs": [],
   "source": []
  },
  {
   "cell_type": "code",
   "execution_count": null,
   "id": "dcfc6acb-75ba-4af9-abc6-f85aea99bc9b",
   "metadata": {},
   "outputs": [],
   "source": []
  },
  {
   "cell_type": "code",
   "execution_count": null,
   "id": "001e67cd-8f7e-4e03-a36e-949b1e3f2acd",
   "metadata": {},
   "outputs": [],
   "source": []
  },
  {
   "cell_type": "code",
   "execution_count": null,
   "id": "3894bae8-fdc9-4dd8-aa77-b90f682a50b3",
   "metadata": {},
   "outputs": [],
   "source": []
  },
  {
   "cell_type": "code",
   "execution_count": null,
   "id": "576b63d7-2b54-4fcb-a1b1-6d5c7e6e3e9e",
   "metadata": {},
   "outputs": [],
   "source": []
  },
  {
   "cell_type": "code",
   "execution_count": null,
   "id": "4d17e8aa-fa62-4800-b626-b6554205da75",
   "metadata": {},
   "outputs": [],
   "source": []
  },
  {
   "cell_type": "code",
   "execution_count": null,
   "id": "649df2dc-73ea-4fae-bb86-a49c4b49e01a",
   "metadata": {},
   "outputs": [],
   "source": []
  },
  {
   "cell_type": "code",
   "execution_count": null,
   "id": "cddcdff6-7cb2-4509-bb37-de49a9742924",
   "metadata": {},
   "outputs": [],
   "source": []
  }
 ],
 "metadata": {
  "kernelspec": {
   "display_name": "Python 3 (ipykernel)",
   "language": "python",
   "name": "python3"
  },
  "language_info": {
   "codemirror_mode": {
    "name": "ipython",
    "version": 3
   },
   "file_extension": ".py",
   "mimetype": "text/x-python",
   "name": "python",
   "nbconvert_exporter": "python",
   "pygments_lexer": "ipython3",
   "version": "3.9.13"
  }
 },
 "nbformat": 4,
 "nbformat_minor": 5
}
