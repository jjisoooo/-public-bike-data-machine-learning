{
 "cells": [
  {
   "cell_type": "markdown",
   "id": "8a8469a3-1bed-47c8-b641-45f2495cc5e2",
   "metadata": {},
   "source": [
    "# R2: 0.946386123577978"
   ]
  },
  {
   "cell_type": "code",
   "execution_count": 1,
   "id": "ec18d2ff-9c7c-4cd3-96d1-3fa185e156c5",
   "metadata": {},
   "outputs": [],
   "source": [
    "import pandas as pd\n",
    "import numpy as np\n",
    "import matplotlib.pyplot as plt\n",
    "import seaborn as sns\n",
    "import warnings\n",
    "warnings.filterwarnings('ignore')"
   ]
  },
  {
   "cell_type": "code",
   "execution_count": 29,
   "id": "68eafa77-e226-45fc-92ae-ea8263ac6468",
   "metadata": {},
   "outputs": [],
   "source": [
    "from sklearn.model_selection import train_test_split\n",
    "from sklearn.linear_model import LinearRegression,Ridge,Lasso \n",
    "from sklearn.metrics import mean_squared_error, mean_absolute_error, r2_score"
   ]
  },
  {
   "cell_type": "code",
   "execution_count": 30,
   "id": "5a0d6861-6c6b-45ca-ab91-22499cda0bf7",
   "metadata": {},
   "outputs": [],
   "source": [
    "df= pd.read_csv('2018-2021년_2_자치구별_따릉이_이용건수.csv')"
   ]
  },
  {
   "cell_type": "code",
   "execution_count": 31,
   "id": "69f05776-724f-4183-b1bd-c1ade2db7165",
   "metadata": {},
   "outputs": [],
   "source": [
    "df.drop(columns='Unnamed: 0', inplace=True)"
   ]
  },
  {
   "cell_type": "code",
   "execution_count": 32,
   "id": "a0fda24d-622f-4709-b4dd-12bf264b1827",
   "metadata": {},
   "outputs": [],
   "source": [
    "df['일시']=pd.to_datetime(df['일시'])\n",
    "df['year'] = df.일시.apply(lambda x : x.year)\n",
    "df['month'] = df.일시.apply(lambda x : x.month)\n",
    "df['day'] = df.일시.apply(lambda x : x.day)"
   ]
  },
  {
   "cell_type": "code",
   "execution_count": 33,
   "id": "fe74db6b-8313-4016-91f0-ec8054e97fd9",
   "metadata": {},
   "outputs": [],
   "source": [
    "df1 = df.drop(columns='일시')\n"
   ]
  },
  {
   "cell_type": "code",
   "execution_count": 34,
   "id": "5c951e0d-6913-4b5a-b9ab-71cfd6a5f17c",
   "metadata": {},
   "outputs": [
    {
     "data": {
      "text/plain": [
       "Index(['평균기온', '최저기온', '최고기온', '일강수량', '최대순간풍속', '최대순간풍속풍향', '최대풍속', '최대풍속풍향',\n",
       "       '평균풍속', '최다풍향', '평균이슬점온도', '최소상대습도', '평균상대습도', '평균증기압', '평균전운량',\n",
       "       '평균중하층운량', '일최심적설', '일최심신적설', '강수여부', '일 미세먼지 농도(㎍/㎥)', '휴일여부', '요일',\n",
       "       '계절', '강남구', '강동구', '강북구', '강서구', '관악구', '광진구', '구로구', '금천구', '노원구',\n",
       "       '도봉구', '동대문구', '동작구', '마포구', '서대문구', '서초구', '성동구', '성북구', '송파구', '양천구',\n",
       "       '영등포구', '용산구', '은평구', '종로구', '중구', '중랑구', '일합계', 'year', 'month',\n",
       "       'day'],\n",
       "      dtype='object')"
      ]
     },
     "execution_count": 34,
     "metadata": {},
     "output_type": "execute_result"
    }
   ],
   "source": [
    "df1.columns"
   ]
  },
  {
   "cell_type": "code",
   "execution_count": 35,
   "id": "f9a51b82-05f2-4db5-b149-7acd0e845d4b",
   "metadata": {},
   "outputs": [
    {
     "data": {
      "text/plain": [
       "<AxesSubplot:xlabel='영등포구', ylabel='Count'>"
      ]
     },
     "execution_count": 35,
     "metadata": {},
     "output_type": "execute_result"
    },
    {
     "data": {
      "image/png": "[encoded data removed]",
      "text/plain": [
       "<Figure size 640x480 with 1 Axes>"
      ]
     },
     "metadata": {},
     "output_type": "display_data"
    }
   ],
   "source": [
    "sns.histplot(df['영등포구'], kde=True)"
   ]
  },
  {
   "cell_type": "code",
   "execution_count": 36,
   "id": "d02be252-a285-46c3-a4d9-035a283099d3",
   "metadata": {},
   "outputs": [],
   "source": [
    "def get_rmse(model):\n",
    "    import numpy as np\n",
    "    from sklearn.metrics import mean_squared_error\n",
    "    pred = model.predict(X_test)\n",
    "    # mse = mean_squared_error(y_test, pred)\n",
    "    # rmse = np.sqrt(mse)\n",
    "    # print(model.__class__.__name__, 'RMSE: ', np.round(rmse,3))\n",
    "    return rmse\n",
    "\n",
    "def get_rmses(models):\n",
    "    rmses = []\n",
    "    for model in models:\n",
    "        rmse = get_rmse(model)\n",
    "        rmses.append(rmse)\n",
    "    return rmses"
   ]
  },
  {
   "cell_type": "code",
   "execution_count": 37,
   "id": "1277645b-e76d-4ae8-bc30-6676ab5db300",
   "metadata": {},
   "outputs": [
    {
     "name": "stdout",
     "output_type": "stream",
     "text": [
      "<class 'pandas.core.frame.DataFrame'>\n",
      "RangeIndex: 1461 entries, 0 to 1460\n",
      "Data columns (total 52 columns):\n",
      " #   Column          Non-Null Count  Dtype  \n",
      "---  ------          --------------  -----  \n",
      " 0   평균기온            1461 non-null   float64\n",
      " 1   최저기온            1461 non-null   float64\n",
      " 2   최고기온            1461 non-null   float64\n",
      " 3   일강수량            1461 non-null   float64\n",
      " 4   최대순간풍속          1461 non-null   float64\n",
      " 5   최대순간풍속풍향        1461 non-null   int64  \n",
      " 6   최대풍속            1461 non-null   float64\n",
      " 7   최대풍속풍향          1461 non-null   int64  \n",
      " 8   평균풍속            1461 non-null   float64\n",
      " 9   최다풍향            1461 non-null   int64  \n",
      " 10  평균이슬점온도         1461 non-null   float64\n",
      " 11  최소상대습도          1461 non-null   int64  \n",
      " 12  평균상대습도          1461 non-null   float64\n",
      " 13  평균증기압           1461 non-null   float64\n",
      " 14  평균전운량           1461 non-null   float64\n",
      " 15  평균중하층운량         1461 non-null   float64\n",
      " 16  일최심적설           1461 non-null   float64\n",
      " 17  일최심신적설          1461 non-null   float64\n",
      " 18  강수여부            1461 non-null   float64\n",
      " 19  일 미세먼지 농도(㎍/㎥)  1461 non-null   float64\n",
      " 20  휴일여부            1461 non-null   int64  \n",
      " 21  요일              1461 non-null   int64  \n",
      " 22  계절              1461 non-null   int64  \n",
      " 23  강남구             1461 non-null   float64\n",
      " 24  강동구             1461 non-null   float64\n",
      " 25  강북구             1461 non-null   float64\n",
      " 26  강서구             1461 non-null   float64\n",
      " 27  관악구             1461 non-null   float64\n",
      " 28  광진구             1461 non-null   float64\n",
      " 29  구로구             1461 non-null   float64\n",
      " 30  금천구             1461 non-null   float64\n",
      " 31  노원구             1461 non-null   float64\n",
      " 32  도봉구             1461 non-null   float64\n",
      " 33  동대문구            1461 non-null   float64\n",
      " 34  동작구             1461 non-null   float64\n",
      " 35  마포구             1461 non-null   float64\n",
      " 36  서대문구            1461 non-null   float64\n",
      " 37  서초구             1461 non-null   float64\n",
      " 38  성동구             1461 non-null   float64\n",
      " 39  성북구             1461 non-null   float64\n",
      " 40  송파구             1461 non-null   float64\n",
      " 41  양천구             1461 non-null   float64\n",
      " 42  영등포구            1461 non-null   float64\n",
      " 43  용산구             1461 non-null   float64\n",
      " 44  은평구             1461 non-null   float64\n",
      " 45  종로구             1461 non-null   float64\n",
      " 46  중구              1461 non-null   float64\n",
      " 47  중랑구             1461 non-null   float64\n",
      " 48  일합계             1461 non-null   float64\n",
      " 49  year            1461 non-null   int64  \n",
      " 50  month           1461 non-null   int64  \n",
      " 51  day             1461 non-null   int64  \n",
      "dtypes: float64(42), int64(10)\n",
      "memory usage: 593.7 KB\n"
     ]
    }
   ],
   "source": [
    "df1.info()"
   ]
  },
  {
   "cell_type": "code",
   "execution_count": 54,
   "id": "6fffc96c-e662-45c7-8074-84a15936492c",
   "metadata": {},
   "outputs": [],
   "source": [
    "df1 = df[['평균기온', '최저기온', '최고기온', '일강수량', '최대순간풍속', '최대순간풍속풍향', '최대풍속',\n",
    "       '최대풍속풍향', '평균풍속', '최다풍향', '평균이슬점온도', '최소상대습도', '평균상대습도', '평균증기압',\n",
    "       '평균전운량', '평균중하층운량', '일최심적설', '일최심신적설', '강수여부', '일 미세먼지 농도(㎍/㎥)', '휴일여부',\n",
    "      '요일', '계절', 'year', 'month',\n",
    "       'day', '영등포구']] #확인할 컬럼 추출"
   ]
  },
  {
   "cell_type": "code",
   "execution_count": 55,
   "id": "47c5641a-6412-4b9d-a6ed-514da7802688",
   "metadata": {},
   "outputs": [],
   "source": [
    "X = df1.drop(columns=['영등포구'])\n",
    "y = df1['영등포구']"
   ]
  },
  {
   "cell_type": "code",
   "execution_count": 56,
   "id": "e0845673-068d-4f40-bced-fee59efa6ad8",
   "metadata": {},
   "outputs": [],
   "source": [
    "X_train, X_test, y_train, y_test = train_test_split(X,y, test_size=0.2, random_state=156)"
   ]
  },
  {
   "cell_type": "code",
   "execution_count": 57,
   "id": "c960f121-ce99-4427-bc66-e5107202a970",
   "metadata": {},
   "outputs": [
    {
     "data": {
      "text/plain": [
       "[1307.1529626214515, 1307.1529626214515, 1307.1529626214515]"
      ]
     },
     "execution_count": 57,
     "metadata": {},
     "output_type": "execute_result"
    }
   ],
   "source": [
    "# 전처리전 모델 1차 확인\n",
    "lr_reg = LinearRegression() #선형회귀\n",
    "lr_reg.fit(X_train, y_train)\n",
    "\n",
    "pred = lr_reg.predict(X_test)\n",
    "mse = mean_squared_error(y_test, pred)\n",
    "rmse = np.sqrt(mse)\n",
    "\n",
    "\n",
    "ridge_reg = Ridge()\n",
    "ridge_reg.fit(X_train, y_train)\n",
    "\n",
    "lasso_reg = Lasso()\n",
    "lasso_reg.fit(X_train, y_train)\n",
    "\n",
    "models = [lr_reg, ridge_reg, lasso_reg]\n",
    "get_rmses(models) # R2 점수 추가함"
   ]
  },
  {
   "cell_type": "code",
   "execution_count": 58,
   "id": "418fb48b-dfa8-493e-9187-874fe0fafd1b",
   "metadata": {},
   "outputs": [],
   "source": [
    "# 계산처리 안할거 문자로 바꾸기\n",
    "df1[[ '강수여부','휴일여부','요일', '계절', 'year', 'month','day',]]= df1[[ '강수여부','휴일여부','요일', '계절', 'year', 'month','day']].astype('str')"
   ]
  },
  {
   "cell_type": "code",
   "execution_count": 59,
   "id": "2844292e-6a0d-4a6f-b08c-29d485d960b2",
   "metadata": {},
   "outputs": [
    {
     "data": {
      "text/plain": [
       "일최심신적설            12.166799\n",
       "일최심적설              8.847381\n",
       "일강수량               5.001375\n",
       "일 미세먼지 농도(㎍/㎥)     3.246978\n",
       "최대순간풍속             1.400714\n",
       "dtype: float64"
      ]
     },
     "execution_count": 59,
     "metadata": {},
     "output_type": "execute_result"
    }
   ],
   "source": [
    "from scipy.stats import skew\n",
    "\n",
    "# 왜곡도 확인\n",
    "features_index = df1.dtypes[df1.dtypes != 'object'].index\n",
    "skew_features= df1[features_index].apply(lambda x : skew(x))\n",
    "skew_features_top = skew_features[skew_features>1]\n",
    "skew_features_top.sort_values(ascending=False)"
   ]
  },
  {
   "cell_type": "code",
   "execution_count": 60,
   "id": "bb4aaf0e-0bee-4ad6-9de2-1ff0b05e859b",
   "metadata": {},
   "outputs": [],
   "source": [
    "# 왜곡도 1 이상은 로그로 변환\n",
    "df1[skew_features_top.index]= np.log1p(df1[skew_features_top.index])"
   ]
  },
  {
   "cell_type": "code",
   "execution_count": 61,
   "id": "044daa7a-513d-47ab-bdeb-0594e4d3dd8c",
   "metadata": {},
   "outputs": [
    {
     "data": {
      "text/plain": [
       "<AxesSubplot:xlabel='영등포구', ylabel='Count'>"
      ]
     },
     "execution_count": 61,
     "metadata": {},
     "output_type": "execute_result"
    },
    {
     "data": {
      "image/png": "[encoded data removed]",
      "text/plain": [
       "<Figure size 640x480 with 1 Axes>"
      ]
     },
     "metadata": {},
     "output_type": "display_data"
    }
   ],
   "source": [
    "# y값 정규분포로 변환\n",
    "log_test = np.log1p(df1['영등포구'])\n",
    "sns.histplot(log_test, kde=True)"
   ]
  },
  {
   "cell_type": "code",
   "execution_count": 62,
   "id": "cb51537b-c1e0-48ab-95a6-9de2915f3f9f",
   "metadata": {},
   "outputs": [],
   "source": [
    "# 문자열 치환 원앤핫인코딩\n",
    "df1 = pd.get_dummies(df1)\n",
    "X = df1.drop(columns=['영등포구'])\n",
    "y = log_test\n",
    "X_train, X_test, y_train, y_test = train_test_split(X,y, test_size=0.2, random_state=156)"
   ]
  },
  {
   "cell_type": "code",
   "execution_count": 63,
   "id": "3ff92d8d-356f-4a09-9631-29bcba32285e",
   "metadata": {},
   "outputs": [
    {
     "name": "stdout",
     "output_type": "stream",
     "text": [
      "MSE: 0.07280745805695467, RMSE: 0.2698285716097439, R2: 0.8950294045936424\n"
     ]
    }
   ],
   "source": [
    "# 모델 2차 확인\n",
    "lr_reg = LinearRegression()\n",
    "lr_reg.fit(X_train, y_train)\n",
    "\n",
    "pred = lr_reg.predict(X_test)\n",
    "mse = mean_squared_error(y_test, pred)\n",
    "rmse = np.sqrt(mse)\n",
    "print(f'MSE: {mse}, RMSE: {rmse}, R2: {r2_score(y_test, pred)}')\n",
    "\n",
    "ridge_reg = Ridge()\n",
    "ridge_reg.fit(X_train, y_train)\n",
    "lasso_reg = Lasso()\n",
    "lasso_reg.fit(X_train, y_train)\n",
    "models = [lr_reg, ridge_reg, lasso_reg]\n",
    "\n",
    "for model in models:\n",
    "    get_rmse(model)\n",
    "\n",
    "    # y_t= np.expm1(y_test)\n",
    "    # p_t = np.expm1(pred)\n",
    "    # for solve, predd in zip(y_t, p_t):\n",
    "    #     print(f'{solve}, {predd}') \n",
    "    # get_mse = mean_squared_error(y_test, pred)\n",
    "    # rmse = np.sqrt(mse)\n",
    "    # print(model.__class__.__name__, 'RMSE: ', np.round(rmse,3))\n"
   ]
  },
  {
   "cell_type": "code",
   "execution_count": 64,
   "id": "590f6b89-d29c-4803-89c2-8c1983c11de3",
   "metadata": {},
   "outputs": [
    {
     "data": {
      "text/plain": [
       "0.30973990488348213"
      ]
     },
     "execution_count": 64,
     "metadata": {},
     "output_type": "execute_result"
    }
   ],
   "source": [
    "np.expm1(0.2698285716097439)"
   ]
  },
  {
   "cell_type": "code",
   "execution_count": 65,
   "id": "a0038ef3-2027-4c28-bcf1-2e66d69a6967",
   "metadata": {
    "tags": []
   },
   "outputs": [
    {
     "name": "stdout",
     "output_type": "stream",
     "text": [
      "3612.9999999999977, 3711.7609093901465\n",
      "7810.000000000003, 9425.79679919781\n",
      "9410.999999999993, 7986.496480061052\n",
      "4173.999999999999, 3773.6628309899957\n",
      "1100.9999999999995, 768.0781756169612\n",
      "596.0000000000001, 1238.6263337924988\n",
      "2553.0000000000005, 1588.591005334685\n",
      "8704.0, 8917.43693279598\n",
      "5704.000000000002, 6793.023831648377\n",
      "2302.0000000000005, 2831.181975343237\n",
      "5091.000000000003, 2384.788839687192\n",
      "6224.0, 5287.4631197633125\n",
      "7955.999999999996, 7490.733705638539\n",
      "761.9999999999999, 1087.8729660528968\n",
      "9192.000000000002, 11708.390661804144\n",
      "4667.0, 3930.4240852184835\n",
      "11707.00000000001, 10112.498359035515\n",
      "8565.999999999996, 11256.946647082765\n",
      "9699.000000000004, 7812.011776220526\n",
      "2573.000000000001, 2162.532797061165\n",
      "7300.999999999994, 5731.569966957505\n",
      "9872.000000000004, 15327.367416393987\n",
      "6212.000000000005, 5946.698748765513\n",
      "8302.999999999995, 10446.046370985954\n",
      "7578.000000000002, 6769.325156433893\n",
      "6156.999999999998, 4820.694673700492\n",
      "5918.9999999999945, 6298.5850200372615\n",
      "7197.000000000004, 9766.191747411896\n",
      "7714.9999999999945, 8545.185305105448\n",
      "1486.0, 1478.4146179460265\n",
      "932.0000000000001, 798.6739655702451\n",
      "5126.000000000001, 5182.085939300237\n",
      "1692.9999999999993, 1681.7874950038583\n",
      "709.0000000000002, 679.8396894277727\n",
      "6905.000000000004, 6898.816442795119\n",
      "7175.999999999999, 2167.550375816307\n",
      "4034.999999999999, 3531.532238536952\n",
      "747.9999999999998, 950.3295811078533\n",
      "5919.9999999999945, 5004.108972239988\n",
      "7821.9999999999945, 8645.343684967293\n",
      "434.99999999999994, 731.8206114487762\n",
      "7696.999999999996, 7562.487953720028\n",
      "6580.999999999995, 7104.505350443986\n",
      "3399.999999999999, 2765.587742634446\n",
      "3778.9999999999986, 4379.493999913811\n",
      "6694.000000000005, 6790.061823974351\n",
      "6788.000000000001, 6696.253340451022\n",
      "1877.9999999999993, 2048.432184069051\n",
      "5835.000000000004, 7386.906514739393\n",
      "511.9999999999999, 477.15057325519814\n",
      "5181.0, 2072.977379715671\n",
      "2885.000000000001, 3866.9260120825334\n",
      "5794.999999999995, 6384.007998477276\n",
      "7246.000000000005, 5675.178193590966\n",
      "3423.999999999998, 3914.591832216737\n",
      "6795.000000000005, 3816.9164729666463\n",
      "3806.999999999999, 4401.858045405029\n",
      "9753.000000000004, 8887.031458450247\n",
      "1556.0000000000002, 1318.2938163923131\n",
      "779.0000000000001, 1259.9113409247072\n",
      "3324.999999999998, 3920.821693283234\n",
      "5095.999999999999, 4905.719505146396\n",
      "3745.9999999999977, 2686.833646598109\n",
      "4191.999999999996, 4381.469388856467\n",
      "7189.000000000004, 7113.995166880614\n",
      "8407.999999999995, 7882.018992791354\n",
      "7522.000000000001, 8470.758971064763\n",
      "8450.000000000005, 5929.357319851803\n",
      "1596.0000000000002, 2391.1116339095342\n",
      "3190.9999999999986, 3140.7164404931395\n",
      "5169.000000000001, 5135.348317879884\n",
      "4556.000000000003, 3639.276052840976\n",
      "8610.000000000005, 9271.77185557725\n",
      "2582.0, 2649.166174868332\n",
      "6106.999999999996, 5450.712947726203\n",
      "4277.000000000002, 4616.003553179498\n",
      "3187.9999999999977, 2961.4221100560517\n",
      "2119.0, 3431.569569925622\n",
      "6670.999999999996, 6336.133791666556\n",
      "4604.000000000001, 5295.469380624107\n",
      "1457.9999999999993, 1845.8559687196714\n",
      "6486.000000000004, 5753.75415047834\n",
      "8020.0000000000055, 5839.483117880633\n",
      "5406.999999999997, 3615.24088683392\n",
      "7420.000000000004, 7651.302776351775\n",
      "2711.0, 2072.8344814389366\n",
      "4824.999999999999, 4620.425298599895\n",
      "5569.999999999999, 5240.167634141832\n",
      "3251.9999999999995, 3491.3335604964363\n",
      "2963.9999999999986, 3123.740455371886\n",
      "1899.9999999999993, 1546.1858540474677\n",
      "7079.999999999999, 7257.507680246706\n",
      "6020.000000000001, 5272.946534385771\n",
      "600.0, 732.9982827775493\n",
      "6304.000000000004, 7142.395962614929\n",
      "1698.0000000000007, 1637.1090015200236\n",
      "5113.999999999998, 6709.345095827926\n",
      "8957.999999999995, 7025.6997324922395\n",
      "4926.000000000002, 3474.336800629889\n",
      "3384.9999999999977, 3278.1500498901673\n",
      "5920.999999999999, 7492.4843552854045\n",
      "10272.000000000007, 9670.678296616159\n",
      "8341.999999999996, 10033.574384521695\n",
      "5259.999999999995, 6164.211096760503\n",
      "458.00000000000006, 1405.84680240788\n",
      "2939.0, 2354.765529806642\n",
      "4540.000000000001, 1902.9715141446452\n",
      "4812.999999999996, 3568.73652098767\n",
      "7695.999999999995, 7442.275171740388\n",
      "1343.0000000000002, 1318.0311981629384\n",
      "3169.0000000000027, 2634.0840567596006\n",
      "2994.0, 2989.6251485230546\n",
      "4709.000000000001, 3639.3767317286956\n",
      "9060.999999999993, 7516.539958683595\n",
      "1826.9999999999995, 1506.6729653027073\n",
      "2146.0, 2263.0520998051497\n",
      "889.9999999999997, 1110.2370483128134\n",
      "10969.00000000001, 10392.262614779434\n",
      "4305.999999999996, 3842.668688551837\n",
      "2261.9999999999995, 1712.2912755586535\n",
      "1580.0000000000007, 1411.3638205482162\n",
      "7855.999999999995, 7802.712792408068\n",
      "2410.999999999999, 2590.568297589586\n",
      "4933.999999999998, 4749.05684931721\n",
      "4499.000000000001, 3023.399130584707\n",
      "6640.0, 7381.483350521837\n",
      "4137.999999999997, 4742.351513319287\n",
      "8613.999999999993, 8516.302773481542\n",
      "3517.0000000000027, 2703.7217117776827\n",
      "4933.0, 4672.958467047692\n",
      "2722.9999999999995, 4448.2964040980005\n",
      "2059.000000000001, 2160.0515484236266\n",
      "3266.999999999998, 3738.4323479479835\n",
      "3766.9999999999973, 3457.729508949016\n",
      "2063.0000000000005, 2093.33128137833\n",
      "10683.999999999993, 13289.539165996295\n",
      "3422.0000000000014, 3231.458209381161\n",
      "3175.000000000002, 2277.2351135209105\n",
      "5421.000000000002, 6869.729383462725\n",
      "9481.999999999998, 7586.460748049893\n",
      "10009.999999999993, 13051.016498256833\n",
      "4832.0, 3339.879428235909\n",
      "2447.0000000000005, 2061.3941409472177\n",
      "9481.999999999998, 9419.716962058092\n",
      "3926.999999999997, 4766.008868718507\n",
      "3696.0000000000023, 3457.40627090717\n",
      "8787.000000000005, 11441.340643592954\n",
      "4299.999999999997, 5047.19408067267\n",
      "11486.000000000004, 8559.225490542824\n",
      "2287.0, 1782.7209291104723\n",
      "2591.0, 2012.5057520389375\n",
      "5702.0, 3604.621531545624\n",
      "2477.0, 2531.860458196475\n",
      "1535.0000000000002, 1372.4678253646812\n",
      "1981.9999999999998, 2089.4869962982993\n",
      "5273.000000000001, 7631.640428183902\n",
      "1508.0000000000005, 1356.5353787036818\n",
      "9297.0, 9555.579794016317\n",
      "9402.000000000002, 11204.172416127036\n",
      "7037.9999999999945, 8390.412031334525\n",
      "5644.999999999995, 6108.206563497708\n",
      "3811.9999999999986, 5209.448080316089\n",
      "2225.0000000000005, 1816.1461969610125\n",
      "9834.000000000007, 13287.020279108792\n",
      "7282.000000000003, 10074.767813358585\n",
      "1664.0000000000005, 1710.4300248158368\n",
      "8838.000000000005, 10708.511066008754\n",
      "7849.0, 8874.135675402567\n",
      "8146.999999999998, 11457.668849007398\n",
      "9123.000000000005, 12697.797958352354\n",
      "5181.0, 5099.648486573028\n",
      "7847.0000000000055, 8444.219733908805\n",
      "1519.9999999999995, 913.3110089089621\n",
      "8853.999999999996, 6927.319617814925\n",
      "6968.000000000004, 5952.173490550066\n",
      "3153.999999999999, 2041.9072643516902\n",
      "6658.999999999996, 7581.473189173457\n",
      "6152.0000000000055, 5734.20019946012\n",
      "2629.000000000001, 2656.173147759048\n",
      "802.0, 858.3257755885675\n",
      "6154.999999999996, 5536.576816863277\n",
      "5963.999999999999, 7999.851535928793\n",
      "5702.0, 4424.9556443380525\n",
      "1843.0000000000005, 1508.8852488773239\n",
      "3217.0000000000014, 3018.3450315715518\n",
      "570.9999999999999, 501.85656277961596\n",
      "3573.0000000000023, 3349.7390312005177\n",
      "3632.9999999999973, 3513.8730334849884\n",
      "3994.9999999999986, 3910.0704621325394\n",
      "2647.0000000000005, 3316.39232498435\n",
      "2641.0, 2151.883035240863\n",
      "698.9999999999998, 554.1982230693346\n",
      "5979.999999999996, 6982.2800984487485\n",
      "2911.0000000000005, 3549.118497066734\n",
      "1512.9999999999998, 1347.5721606086886\n",
      "7628.0, 9399.37604699971\n",
      "6589.999999999999, 6032.040316060988\n",
      "6725.000000000003, 6446.477968435045\n",
      "3477.999999999998, 3081.3071670743\n",
      "1592.0000000000005, 1202.51658117727\n",
      "6412.999999999996, 5532.159665288248\n",
      "1279.0, 1359.043805566378\n",
      "4323.999999999999, 4020.426562432147\n",
      "6508.999999999999, 7044.981990346822\n",
      "7227.999999999995, 8925.490818718406\n",
      "3961.0000000000014, 2575.1654483654206\n",
      "2767.9999999999995, 2825.6948564167496\n",
      "6417.000000000005, 4373.083000984889\n",
      "974.0000000000001, 800.6439697420118\n",
      "1235.9999999999995, 2472.657732237195\n",
      "2676.999999999999, 2049.3197150315727\n",
      "8966.999999999995, 8936.99072275479\n",
      "1642.9999999999995, 1749.5815787771671\n",
      "4840.999999999999, 6644.608631116784\n",
      "3085.0000000000027, 2131.897603592426\n",
      "9245.0, 9352.347683598387\n",
      "409.99999999999983, 429.3217710620255\n",
      "1128.9999999999995, 2005.7923279335246\n",
      "3937.0000000000005, 3648.377896172379\n",
      "1536.9999999999993, 1767.234219475318\n",
      "953.0000000000003, 700.5716485055962\n",
      "1867.0000000000007, 3181.288961825255\n",
      "1821.0, 1565.4510464766565\n",
      "387.00000000000006, 285.2744455783732\n",
      "7731.000000000002, 7780.657427992025\n",
      "807.9999999999997, 819.956562147965\n",
      "844.0000000000001, 1924.2073656154325\n",
      "1499.9999999999998, 1286.9991924619974\n",
      "2984.000000000001, 2366.8304095231997\n",
      "9145.999999999993, 10632.196641804956\n",
      "9439.000000000007, 11021.623967707948\n",
      "2244.9999999999995, 4421.197456137917\n",
      "961.0, 1166.0048379328257\n",
      "1444.0000000000005, 861.8073563222043\n",
      "2374.0000000000005, 3744.015833077811\n",
      "7276.000000000003, 7100.830137903117\n",
      "8398.000000000005, 8035.175115507087\n",
      "12611.999999999989, 13515.717212343301\n",
      "2130.9999999999995, 2222.008283195188\n",
      "8380.999999999996, 6262.172538738977\n",
      "2602.0, 2421.457232215767\n",
      "753.0000000000001, 853.432289640513\n",
      "3521.999999999999, 3584.097635151554\n",
      "520.0, 624.3897129810457\n",
      "2401.0000000000005, 1920.5319517390838\n",
      "9434.00000000001, 8386.48563788242\n",
      "206.99999999999997, 396.96976980441417\n",
      "2151.0000000000005, 1448.8903774814044\n",
      "7968.0000000000055, 8335.591505816428\n",
      "4531.000000000002, 3305.394550523268\n",
      "8592.0, 9624.92925191766\n",
      "9337.000000000007, 11284.255577115255\n",
      "9514.000000000005, 8239.758012441078\n",
      "676.0, 919.0092604111659\n",
      "10505.000000000005, 11803.93468635273\n",
      "6934.999999999999, 4450.90884786711\n",
      "4401.000000000001, 4932.969411038126\n",
      "262.00000000000006, 380.22550804743815\n",
      "4980.999999999998, 4422.93006628414\n",
      "1777.0000000000002, 1915.9670884896445\n",
      "2883.0000000000014, 4754.01072863642\n",
      "618.0, 1076.6365980573173\n",
      "9085.999999999995, 10257.43506564405\n",
      "6587.9999999999945, 6220.773538183285\n",
      "7079.000000000001, 6980.119335862027\n",
      "3324.999999999998, 3087.275012706826\n",
      "10514.000000000005, 9131.572343721922\n",
      "1329.0000000000002, 1098.78327200585\n",
      "11849.999999999993, 11434.034486732304\n",
      "9211.999999999993, 8256.867107116701\n",
      "1112.0000000000002, 1165.9247088209158\n",
      "5004.999999999997, 9363.12707757824\n",
      "5648.000000000003, 4389.465690870321\n",
      "2320.999999999999, 1163.658612606374\n",
      "8448.999999999996, 7162.193142353238\n",
      "5973.000000000005, 5220.717679436765\n",
      "641.0, 813.449174986607\n",
      "2384.000000000001, 2045.468389343946\n",
      "2311.000000000001, 2660.6070444518264\n",
      "623.9999999999998, 522.162054437782\n",
      "6469.000000000004, 6782.077805981044\n",
      "5600.999999999997, 4658.609769247915\n",
      "1800.9999999999998, 1632.2728741092792\n",
      "2288.999999999999, 2087.005884939254\n",
      "11585.000000000005, 13323.484486084066\n",
      "1434.9999999999998, 1724.071728814596\n",
      "7964.9999999999945, 9763.383763071306\n",
      "1409.0000000000005, 1333.184070759924\n",
      "6162.0, 7489.5942167989015\n",
      "8399.999999999995, 8380.118907799004\n",
      "3989.000000000002, 3655.1132988629724\n",
      "2025.0, 1423.7941785693918\n",
      "2854.0000000000014, 3500.8543991123006\n"
     ]
    }
   ],
   "source": [
    "# 루트치환값 다시 원래대로 돌려서 비교\n",
    "y_t= np.expm1(y_test)\n",
    "p_t = np.expm1(pred)\n",
    "for solve, predd in zip(y_t, p_t):\n",
    "    print(f'{solve}, {predd}') "
   ]
  },
  {
   "cell_type": "markdown",
   "id": "774d3b53-114b-4b1e-82bb-24dfce8ce21b",
   "metadata": {},
   "source": [
    "# 회귀 계수"
   ]
  },
  {
   "cell_type": "code",
   "execution_count": 49,
   "id": "beb7e68b-fc44-4a85-b912-9c989b86c83a",
   "metadata": {},
   "outputs": [
    {
     "data": {
      "text/plain": [
       "(year_2021    0.464172\n",
       " year_2020    0.272818\n",
       " month_12     0.262548\n",
       " 계절_3         0.112047\n",
       " 강수여부_1.0     0.080993\n",
       " month_11     0.076709\n",
       " 휴일여부_0       0.069336\n",
       " 일최심신적설       0.067497\n",
       " month_10     0.063570\n",
       " 요일_2         0.058731\n",
       " dtype: float64,\n",
       " 일강수량        -0.087648\n",
       " 계절_4        -0.089620\n",
       " 요일_5        -0.091814\n",
       " 요일_6        -0.094558\n",
       " day_16      -0.107890\n",
       " year_2019   -0.124661\n",
       " month_2     -0.137553\n",
       " 일최심적설       -0.202413\n",
       " month_1     -0.214615\n",
       " year_2018   -0.612328\n",
       " dtype: float64)"
      ]
     },
     "execution_count": 49,
     "metadata": {},
     "output_type": "execute_result"
    }
   ],
   "source": [
    "def get_top_botton_coef(model, n=10):\n",
    "    coef = pd.Series(model.coef_, index=X.columns) #회귀계수값 시리즈로 만들기\n",
    "    coef_high = coef.sort_values(ascending=False).head(n)\n",
    "    coef_low = coef.sort_values(ascending=False).tail(n)\n",
    "    return coef_high, coef_low\n",
    "get_top_botton_coef(lr_reg)"
   ]
  },
  {
   "cell_type": "code",
   "execution_count": 52,
   "id": "62131cbb-46ac-4f7a-9b10-4f2a54d09440",
   "metadata": {},
   "outputs": [],
   "source": [
    "pd.set_option('display.max_seq_items', None)"
   ]
  },
  {
   "cell_type": "code",
   "execution_count": 53,
   "id": "f2e808d9-638b-4945-9b2b-404095748cf2",
   "metadata": {},
   "outputs": [
    {
     "name": "stdout",
     "output_type": "stream",
     "text": [
      "Index(['평균기온', '최저기온', '최고기온', '일강수량', '최대순간풍속', '최대순간풍속풍향', '최대풍속', '최대풍속풍향',\n",
      "       '평균풍속', '최다풍향', '평균이슬점온도', '최소상대습도', '평균상대습도', '평균증기압', '평균전운량',\n",
      "       '평균중하층운량', '일최심적설', '일최심신적설', '일 미세먼지 농도(㎍/㎥)', '강남구', '강동구', '강북구',\n",
      "       '강서구', '관악구', '광진구', '구로구', '금천구', '노원구', '도봉구', '동대문구', '동작구', '마포구',\n",
      "       '서대문구', '서초구', '성동구', '성북구', '송파구', '양천구', '영등포구', '용산구', '은평구', '종로구',\n",
      "       '중구', '중랑구', '일합계', '강수여부_0.0', '강수여부_1.0', '휴일여부_0', '휴일여부_1', '요일_0',\n",
      "       '요일_1', '요일_2', '요일_3', '요일_4', '요일_5', '요일_6', '계절_1', '계절_2', '계절_3',\n",
      "       '계절_4', 'year_2018', 'year_2019', 'year_2020', 'year_2021', 'month_1',\n",
      "       'month_10', 'month_11', 'month_12', 'month_2', 'month_3', 'month_4',\n",
      "       'month_5', 'month_6', 'month_7', 'month_8', 'month_9', 'day_1',\n",
      "       'day_10', 'day_11', 'day_12', 'day_13', 'day_14', 'day_15', 'day_16',\n",
      "       'day_17', 'day_18', 'day_19', 'day_2', 'day_20', 'day_21', 'day_22',\n",
      "       'day_23', 'day_24', 'day_25', 'day_26', 'day_27', 'day_28', 'day_29',\n",
      "       'day_3', 'day_30', 'day_31', 'day_4', 'day_5', 'day_6', 'day_7',\n",
      "       'day_8', 'day_9'],\n",
      "      dtype='object')\n"
     ]
    }
   ],
   "source": [
    "print(df1.columns)"
   ]
  },
  {
   "cell_type": "code",
   "execution_count": null,
   "id": "c5191330-8a8b-4cd2-8373-ad44fc0efd0e",
   "metadata": {},
   "outputs": [],
   "source": []
  }
 ],
 "metadata": {
  "kernelspec": {
   "display_name": "Python 3 (ipykernel)",
   "language": "python",
   "name": "python3"
  },
  "language_info": {
   "codemirror_mode": {
    "name": "ipython",
    "version": 3
   },
   "file_extension": ".py",
   "mimetype": "text/x-python",
   "name": "python",
   "nbconvert_exporter": "python",
   "pygments_lexer": "ipython3",
   "version": "3.9.13"
  }
 },
 "nbformat": 4,
 "nbformat_minor": 5
}
